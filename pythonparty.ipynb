{
 "cells": [
  {
   "cell_type": "markdown",
   "metadata": {},
   "source": [
    "# A Python-Based Investigation of the [Toronto 2017-2018 Schoolchildren Immunization Coverage Dataset.](https://portal0.cf.opendata.inter.sandbox-toronto.ca/dataset/immunization-coverage-for-students/)\n",
    "## Val Masters\n",
    "### 7 June 2019"
   ]
  },
  {
   "cell_type": "code",
   "execution_count": 125,
   "metadata": {},
   "outputs": [],
   "source": [
    "# import pandas\n",
    "import pandas as pd\n",
    "# import numpy\n",
    "import numpy as np\n",
    "# import plotly stuff\n",
    "import plotly.plotly as py\n",
    "import plotly.graph_objs as go"
   ]
  },
  {
   "cell_type": "code",
   "execution_count": 126,
   "metadata": {},
   "outputs": [],
   "source": [
    "def readcsv(file):\n",
    "    # read in csv file using pandas:\n",
    "    data = pd.read_csv(file)\n",
    "    # save file as an indexable array:\n",
    "    array = np.array(data)\n",
    "    return array"
   ]
  },
  {
   "cell_type": "code",
   "execution_count": 127,
   "metadata": {},
   "outputs": [],
   "source": [
    "# returns descriptive statistics on any csv file\n",
    "def filedescribe(file):\n",
    "    described = pd.read_csv(file)\n",
    "    return described.describe()"
   ]
  },
  {
   "cell_type": "code",
   "execution_count": 128,
   "metadata": {},
   "outputs": [],
   "source": [
    "# save each column as a variable by indexing the array:\n",
    "def idcolumn (array):\n",
    "    id = (array[:,0])\n",
    "    return id\n",
    "def schoolcolumn(array):\n",
    "    schools = (array[:,1])\n",
    "    return schools\n",
    "def popcolumn(array):\n",
    "    popu = (array[:,2])\n",
    "    return popu\n",
    "def DTPcoveragecolumn(array):\n",
    "    DTPcoverage = (array[:,3])\n",
    "    return DTPcoverage\n",
    "def DTPexemptcolumn(array):\n",
    "    DTPexempt = (array[:,4])\n",
    "    return DTPexempt\n",
    "def MMRcoveragecolumn(array):\n",
    "    MMRcover = (array[:,5])\n",
    "    return MMRcover\n",
    "def MMRexemptcolumn(array):\n",
    "    MMRexempt = (array[:,6])\n",
    "    return MMRexempt\n"
   ]
  },
  {
   "cell_type": "code",
   "execution_count": 129,
   "metadata": {},
   "outputs": [],
   "source": [
    "# all catholic schools have the string catholic in them\n",
    "def find_catholic_schools(dict):\n",
    "    catholic_dict = {}\n",
    "    for (key, value) in dict.items():\n",
    "        if \"CATHOLIC\" in key:\n",
    "            catholic_dict.update({key:value})\n",
    "        else:\n",
    "            pass\n",
    "    return(catholic_dict)"
   ]
  },
  {
   "cell_type": "code",
   "execution_count": 130,
   "metadata": {},
   "outputs": [],
   "source": [
    "# terms common in alt schools. I doubt I caught them all, some like the da vinci school are named uniquely\n",
    "def find_alt_schools(dict):\n",
    "    alt_dict = {}\n",
    "    for (key, value) in dict.items():\n",
    "        if \"ALTERNATIVE\" in key: \n",
    "            alt_dict.update({key:value})\n",
    "        if \"ARTS\" in key:\n",
    "            alt_dict.update({key:value})\n",
    "        if \"MUSIC\" in key:\n",
    "            alt_dict.update({key:value})\n",
    "        if \"COMMUNITY\" in key:\n",
    "            alt_dict.update({key:value})\n",
    "        if \"LIFE EXPERIENCE\" in key:\n",
    "            alt_dict.update({key:value})\n",
    "        if \"DA VINCI\" in key:\n",
    "            alt_dict.update({key:value})\n",
    "        else:\n",
    "            pass\n",
    "    return(alt_dict)"
   ]
  },
  {
   "cell_type": "code",
   "execution_count": 131,
   "metadata": {},
   "outputs": [],
   "source": [
    "# collegiate and academy signal ~fancy~\n",
    "def find_fancy_schools(dict):\n",
    "    fancy_dict = {}\n",
    "    for (key, value) in dict.items():\n",
    "        if \"COLLEGIATE\" in key:\n",
    "            fancy_dict.update({key:value})\n",
    "        if \"ACADEMY\" in key:\n",
    "            fancy_dict.update({key:value})\n",
    "        else:\n",
    "            pass\n",
    "    return(fancy_dict)"
   ]
  },
  {
   "cell_type": "code",
   "execution_count": 132,
   "metadata": {},
   "outputs": [],
   "source": [
    "# the best way I could figure to find french schools\n",
    "def find_french_schools(dict):\n",
    "    french_dict = {}\n",
    "    for (key, value) in dict.items():\n",
    "        if \"ECOLE\" in key:\n",
    "            french_dict.update({key:value})\n",
    "        if \"EEC\" in key:\n",
    "            french_dict.update({key:value})\n",
    "        if \"ESC\" in key:\n",
    "            french_dict.update({key:value})\n",
    "        if \"ELEMENTAIRE\" in key:\n",
    "            french_dict.update({key:value})\n",
    "        if \"SECONDAIRE\" in key:\n",
    "            french_dict.update({key:value})\n",
    "        if \"FRANCAIS\" in key:\n",
    "            french_dict.update({key:value})\n",
    "        if \"ACADEMIE\" in key:\n",
    "            french_dict.update({key:value})\n",
    "        else:\n",
    "            pass\n",
    "    return(french_dict)"
   ]
  },
  {
   "cell_type": "code",
   "execution_count": 133,
   "metadata": {},
   "outputs": [],
   "source": [
    "# finds public schools based on string matching\n",
    "def find_public_schools(dict):\n",
    "    public_dict = {}\n",
    "    for (key, value) in dict.items():\n",
    "        if \"PUBLIC\" in key:\n",
    "            public_dict.update({key:value})\n",
    "        else:\n",
    "            pass\n",
    "    return(public_dict)"
   ]
  },
  {
   "cell_type": "code",
   "execution_count": 134,
   "metadata": {},
   "outputs": [],
   "source": [
    "# makes a dictionary out of 2 lists\n",
    "def create_dict(schools, MMRe):\n",
    "    keys = schools\n",
    "    values = MMRe\n",
    "    dict = {}\n",
    "    for A, B in zip(keys, values):\n",
    "        dict[A] = B\n",
    "    return dict"
   ]
  },
  {
   "cell_type": "code",
   "execution_count": 135,
   "metadata": {},
   "outputs": [],
   "source": [
    "# it gets only the values from any dictionary\n",
    "def getvalues(dictionary):\n",
    "    valuelist = []\n",
    "    for (key,value) in dictionary.items():\n",
    "        valuelist.append(value)\n",
    "    return(valuelist)"
   ]
  },
  {
   "cell_type": "code",
   "execution_count": 136,
   "metadata": {},
   "outputs": [],
   "source": [
    "# compute and round the mean of any real or int list\n",
    "def arraycompute(array):\n",
    "    from statistics import mean \n",
    "    arraymean = mean(array)\n",
    "    roundedmean = round(arraymean, 1)\n",
    "    return roundedmean"
   ]
  },
  {
   "cell_type": "code",
   "execution_count": 137,
   "metadata": {},
   "outputs": [
    {
     "data": {
      "text/html": [
       "<iframe id=\"igraph\" scrolling=\"no\" style=\"border:none;\" seamless=\"seamless\" src=\"https://plot.ly/~moonmoon23/94.embed\" height=\"525px\" width=\"100%\"></iframe>"
      ],
      "text/plain": [
       "<chart_studio.tools.PlotlyDisplay object>"
      ]
     },
     "execution_count": 137,
     "metadata": {},
     "output_type": "execute_result"
    }
   ],
   "source": [
    "# plotting the entire toronto schools' enrollment numbers against MMR vaccine religious exemption rates\n",
    "\n",
    "df = pd.read_csv(\"https://raw.githubusercontent.com/valhella/torontoimmunization/master/data/mod_immunization-coverage-2017-2018.csv\")\n",
    "    \n",
    "pop_MMRe = go.Scatter(\n",
    "    x= df['enrolledPop'],\n",
    "    y= df['MMRreligousExempt'],\n",
    "    name = \"Enrolled Population Vs. MMR Exception Rate %\",\n",
    "    line = dict(color = 'red'),\n",
    "    mode = 'markers',\n",
    "    opacity = 0.8)\n",
    "\n",
    "layout = go.Layout(\n",
    "    title=go.layout.Title(\n",
    "        text='Toronto School Enrollment vs. MMR Vaccine Religious Exemption Rates',\n",
    "        xref='paper',\n",
    "        x=0\n",
    "    ),\n",
    "    xaxis=go.layout.XAxis(\n",
    "        title=go.layout.xaxis.Title(\n",
    "            text='Enrolled Population',\n",
    "            font=dict(\n",
    "                family='Courier New, monospace',\n",
    "                size=18,\n",
    "                color='#7f7f7f'\n",
    "            )\n",
    "        )\n",
    "    ),\n",
    "    yaxis=go.layout.YAxis(\n",
    "        title=go.layout.yaxis.Title(\n",
    "            text='MMR Vaccine Religious Exemption Rate (%)',\n",
    "            font=dict(\n",
    "                family='Courier New, monospace',\n",
    "                size=18,\n",
    "                color='#7f7f7f'\n",
    "            )\n",
    "        )\n",
    "    )\n",
    ")\n",
    "fig = go.Figure(data=data, layout=layout)\n",
    "data = [pop_MMRe]\n",
    "                   \n",
    "py.iplot(fig)"
   ]
  },
  {
   "cell_type": "code",
   "execution_count": 138,
   "metadata": {},
   "outputs": [
    {
     "data": {
      "text/html": [
       "<iframe id=\"igraph\" scrolling=\"no\" style=\"border:none;\" seamless=\"seamless\" src=\"https://plot.ly/~moonmoon23/96.embed\" height=\"525px\" width=\"100%\"></iframe>"
      ],
      "text/plain": [
       "<chart_studio.tools.PlotlyDisplay object>"
      ]
     },
     "execution_count": 138,
     "metadata": {},
     "output_type": "execute_result"
    }
   ],
   "source": [
    "### PLOTTING A SINGLE SCHOOL TYPE'S ENROLLMENT AGAINST MMR VACCINE RELIGIOUS EXEMPTION RATE\n",
    "\n",
    "df = pd.read_csv(\"https://raw.githubusercontent.com/valhella/torontoimmunization/master/data/catholic.csv\")\n",
    "    \n",
    "cat_pop_MMRe = go.Scatter(\n",
    "    x= df['Enrolled'],\n",
    "    y= df['MMRe'],\n",
    "    name = \"Catholic Enrolled Population Vs. MMR Exception Rate %\",\n",
    "    line = dict(color = 'red'),\n",
    "    mode = 'markers',\n",
    "    opacity = 0.8)\n",
    "\n",
    "layout = go.Layout(\n",
    "    title=go.layout.Title(\n",
    "        text='Toronto Catholic School Enrollment vs. MMR Vaccine Religious Exemption Rates',\n",
    "        xref='paper',\n",
    "        x=0\n",
    "    ),\n",
    "    xaxis=go.layout.XAxis(\n",
    "        title=go.layout.xaxis.Title(\n",
    "            text='Enrolled Population',\n",
    "            font=dict(\n",
    "                family='Courier New, monospace',\n",
    "                size=18,\n",
    "                color='#7f7f7f'\n",
    "            )\n",
    "        )\n",
    "    ),\n",
    "    yaxis=go.layout.YAxis(\n",
    "        title=go.layout.yaxis.Title(\n",
    "            text='MMR Vaccine Religious Exemption Rate (%)',\n",
    "            font=dict(\n",
    "                family='Courier New, monospace',\n",
    "                size=18,\n",
    "                color='#7f7f7f'\n",
    "            )\n",
    "        )\n",
    "    )\n",
    ")\n",
    "\n",
    "data = [cat_pop_MMRe]\n",
    "fig = go.Figure(data=data, layout=layout)          \n",
    "\n",
    "py.iplot(fig)"
   ]
  },
  {
   "cell_type": "code",
   "execution_count": 139,
   "metadata": {},
   "outputs": [
    {
     "data": {
      "text/html": [
       "<iframe id=\"igraph\" scrolling=\"no\" style=\"border:none;\" seamless=\"seamless\" src=\"https://plot.ly/~moonmoon23/98.embed\" height=\"525px\" width=\"100%\"></iframe>"
      ],
      "text/plain": [
       "<chart_studio.tools.PlotlyDisplay object>"
      ]
     },
     "execution_count": 139,
     "metadata": {},
     "output_type": "execute_result"
    }
   ],
   "source": [
    "### PLOTTING ALTERNATIVE SCHOOLS' ENROLLMENT AGAINST MMR VACCINE RELIGIOUS EXEMPTION RATE\n",
    "\n",
    "df = pd.read_csv(\"https://raw.githubusercontent.com/valhella/torontoimmunization/master/data/alt.csv\")\n",
    "    \n",
    "cat_pop_MMRe = go.Scatter(\n",
    "    x= df['Enrolled'],\n",
    "    y= df['MMRe'],\n",
    "    name = \"Alternative School Enrolled Population Vs. MMR Exception Rate %\",\n",
    "    line = dict(color = 'red'),\n",
    "    mode = 'markers',\n",
    "    opacity = 0.8)\n",
    "\n",
    "layout = go.Layout(\n",
    "    title=go.layout.Title(\n",
    "        text='Toronto Alternative School Enrollment vs. MMR Vaccine Religious Exemption Rates',\n",
    "        xref='paper',\n",
    "        x=0\n",
    "    ),\n",
    "    xaxis=go.layout.XAxis(\n",
    "        title=go.layout.xaxis.Title(\n",
    "            text='Enrolled Population',\n",
    "            font=dict(\n",
    "                family='Courier New, monospace',\n",
    "                size=18,\n",
    "                color='#7f7f7f'\n",
    "            )\n",
    "        )\n",
    "    ),\n",
    "    yaxis=go.layout.YAxis(\n",
    "        title=go.layout.yaxis.Title(\n",
    "            text='MMR Vaccine Religious Exemption Rate (%)',\n",
    "            font=dict(\n",
    "                family='Courier New, monospace',\n",
    "                size=18,\n",
    "                color='#7f7f7f'\n",
    "            )\n",
    "        )\n",
    "    )\n",
    ")\n",
    "\n",
    "data = [cat_pop_MMRe]\n",
    "fig = go.Figure(data=data, layout=layout)\n",
    "\n",
    "py.iplot(fig)"
   ]
  },
  {
   "cell_type": "code",
   "execution_count": 140,
   "metadata": {},
   "outputs": [],
   "source": [
    "# saves a list to a txt/csv file on your computer in the open directory\n",
    "def savetocsv(array):\n",
    "    np.savetxt('MMRe.csv', array, fmt=\"%d\", delimiter=\",\")\n",
    "    #pd.DataFrame(array).to_csv(\"filepath.csv\")Hey "
   ]
  },
  {
   "cell_type": "code",
   "execution_count": 141,
   "metadata": {},
   "outputs": [
    {
     "name": "stdout",
     "output_type": "stream",
     "text": [
      "               id  enrolledPop  DTPcoverage  DTPreligousExempt  MMRcoverage  \\\n",
      "count  808.000000   808.000000   808.000000         808.000000   808.000000   \n",
      "mean   404.500000   300.456683    89.969678           2.114851    92.704950   \n",
      "std    233.393802   294.409468     7.297535           3.041579     4.967658   \n",
      "min      1.000000    15.000000    26.700000           0.000000    51.700000   \n",
      "25%    202.750000   120.750000    87.800000           0.600000    90.975000   \n",
      "50%    404.500000   199.000000    91.000000           1.400000    93.600000   \n",
      "75%    606.250000   349.000000    94.325000           2.725000    95.800000   \n",
      "max    808.000000  1887.000000   100.000000          44.100000   100.000000   \n",
      "\n",
      "       MMRreligousExempt  \n",
      "count         808.000000  \n",
      "mean            2.103094  \n",
      "std             3.044536  \n",
      "min             0.000000  \n",
      "25%             0.575000  \n",
      "50%             1.400000  \n",
      "75%             2.725000  \n",
      "max            44.100000  \n",
      "Catholic schools' mean MMR religious exemption rate %: 1.3\n",
      "Alternative schools' mean MMR religious exemption rate %: 6.9\n",
      "Collegiate institutes and academy schools' mean MMR religious exemption rate %: 1.9\n",
      "French schools' mean MMR religious exemption rate %: 2.2\n",
      "Public schools' mean MMR religious exemption rate %: 1.8\n",
      "Catholic schools' mean enrollment: 302.7\n",
      "Alternative schools' mean enrollment: 175.2\n",
      "Collegiate institutes and academy schools' mean enrollment: 804.3\n",
      "French schools' mean enrollment: 132.6\n",
      "Public schools' mean enrollment: 208.4\n"
     ]
    }
   ],
   "source": [
    "# where the magic happens\n",
    "def main():\n",
    "    \n",
    "    #describe data\n",
    "    print(filedescribe(\"https://raw.githubusercontent.com/valhella/torontoimmunization/master/data/mod_immunization-coverage-2017-2018.csv\"))\n",
    "    \n",
    "    #an array with all data from toronto immunization data csv\n",
    "    savedarray = readcsv(\"https://raw.githubusercontent.com/valhella/torontoimmunization/master/data/mod_immunization-coverage-2017-2018.csv\")\n",
    "   \n",
    "    # all columns saved as their own array variables\n",
    "    ids = idcolumn(savedarray)\n",
    "    schools = schoolcolumn(savedarray)\n",
    "    pop = popcolumn(savedarray)\n",
    "    DTPc = DTPcoveragecolumn(savedarray)\n",
    "    DTPe = DTPexemptcolumn(savedarray)\n",
    "    MMRc = MMRcoveragecolumn(savedarray)\n",
    "    MMRe = MMRexemptcolumn(savedarray)\n",
    "    \n",
    "    \n",
    "    #----------------------------------------\n",
    "    # a dictionary with all school names as keys and all MMR exemption rates as values\n",
    "    school_MMRe_dict = create_dict(schools, MMRe)\n",
    "    \n",
    "    # dictionaries for each school type as keys with their associated MMRe rates as values\n",
    "    catholic_schools = find_catholic_schools(school_MMRe_dict)\n",
    "    alt_schools = find_alt_schools(school_MMRe_dict)\n",
    "    fancy_schools = find_fancy_schools(school_MMRe_dict)\n",
    "    french_schools= find_french_schools(school_MMRe_dict)\n",
    "    public_schools = find_public_schools(school_MMRe_dict)\n",
    "    \n",
    "    # a dictionary with all school names as keys and enrollment numbers as values\n",
    "    school_enrollment_dict = create_dict(schools, pop)\n",
    "\n",
    "    # dictionaries for each school type as keys and associated enrollment numbers as values\n",
    "    catholic_schools_enroll_dict = find_catholic_schools(school_enrollment_dict)\n",
    "    alt_schools_enroll_dict = find_alt_schools(school_enrollment_dict)\n",
    "    fancy_schools_enroll_dict = find_fancy_schools(school_enrollment_dict)\n",
    "    french_schools_enroll_dict = find_french_schools(school_enrollment_dict)\n",
    "    public_schools_enroll_dict = find_public_schools(school_enrollment_dict)\n",
    "    \n",
    "    #----------------------------\n",
    "    \n",
    "    # call function that takes values from a dictionary and makes them into a list\n",
    "    \n",
    "    # MMR exemption rates for each school type:\n",
    "    catholic_values = getvalues(catholic_schools) \n",
    "    alt_values = getvalues(alt_schools)\n",
    "    fancy_values = getvalues(fancy_schools)\n",
    "    french_values = getvalues(french_schools)\n",
    "    public_values = getvalues(public_schools)\n",
    "    \n",
    "    # Enrollment numbers for each school type:\n",
    "    catholic_enroll  = getvalues(catholic_schools_enroll_dict)\n",
    "    alt_enroll = getvalues(alt_schools_enroll_dict)\n",
    "    fancy_enroll = getvalues(fancy_schools_enroll_dict)\n",
    "    french_enroll = getvalues(french_schools_enroll_dict)\n",
    "    public_enroll = getvalues(public_schools_enroll_dict)\n",
    "    \n",
    "    # create files by combining selected above lists to be used as a dataframe for pandas/plotly\n",
    "    # must then add headings manually and upload to github, get URL and use to create plotly dataframe\n",
    "    np.savetxt(\"catholic.csv\", np.column_stack((catholic_enroll, catholic_values)), delimiter=\",\", fmt='%s')\n",
    "    np.savetxt(\"alt.csv\", np.column_stack((alt_enroll, alt_values)), delimiter=\",\", fmt='%s')\n",
    "       \n",
    "    \n",
    "    #--------------------------------\n",
    "    \n",
    "    # call function that computes mean values from list\n",
    "    \n",
    "    # Mean MMR exemption rate for each school type:\n",
    "    mean_catholic = arraycompute(catholic_values) \n",
    "    mean_alt = arraycompute(alt_values)\n",
    "    mean_fancy = arraycompute(fancy_values)\n",
    "    mean_french = arraycompute(french_values)\n",
    "    mean_public = arraycompute(public_values)\n",
    "    \n",
    "    # print the mean MMR exemption rates for each school type\n",
    "    print(\"Catholic schools' mean MMR religious exemption rate %:\", mean_catholic)\n",
    "    print(\"Alternative schools' mean MMR religious exemption rate %:\", mean_alt)\n",
    "    print(\"Collegiate institutes and academy schools' mean MMR religious exemption rate %:\", mean_fancy)\n",
    "    print(\"French schools' mean MMR religious exemption rate %:\", mean_french)\n",
    "    print(\"Public schools' mean MMR religious exemption rate %:\", mean_public)\n",
    "    \n",
    "    # Mean enrollment numbers for each school type:\n",
    "    mean_enroll_catholic = arraycompute(catholic_enroll)\n",
    "    mean_enroll_alt = arraycompute(alt_enroll)\n",
    "    mean_enroll_fancy = arraycompute(fancy_enroll)\n",
    "    mean_enroll_french = arraycompute(french_enroll)\n",
    "    mean_enroll_public = arraycompute(public_enroll)\n",
    "\n",
    "    # print the mean enrollment values for each school type\n",
    "    print(\"Catholic schools' mean enrollment:\", mean_enroll_catholic)\n",
    "    print(\"Alternative schools' mean enrollment:\",mean_enroll_alt)\n",
    "    print(\"Collegiate institutes and academy schools' mean enrollment:\", mean_enroll_fancy)\n",
    "    print(\"French schools' mean enrollment:\", mean_enroll_french)\n",
    "    print(\"Public schools' mean enrollment:\", mean_enroll_public)\n",
    "    \n",
    "main()"
   ]
  },
  {
   "cell_type": "code",
   "execution_count": null,
   "metadata": {},
   "outputs": [],
   "source": []
  }
 ],
 "metadata": {
  "kernelspec": {
   "display_name": "Python 3",
   "language": "python",
   "name": "python3"
  },
  "language_info": {
   "codemirror_mode": {
    "name": "ipython",
    "version": 3
   },
   "file_extension": ".py",
   "mimetype": "text/x-python",
   "name": "python",
   "nbconvert_exporter": "python",
   "pygments_lexer": "ipython3",
   "version": "3.7.3"
  }
 },
 "nbformat": 4,
 "nbformat_minor": 2
}
