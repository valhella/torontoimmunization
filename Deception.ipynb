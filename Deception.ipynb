{
 "cells": [
  {
   "cell_type": "markdown",
   "metadata": {},
   "source": [
    "# Data-Driven Deception\n",
    "### By Val Masters\n",
    "#### June 7th, 2019"
   ]
  },
  {
   "cell_type": "markdown",
   "metadata": {},
   "source": [
    "## The Design Process"
   ]
  },
  {
   "cell_type": "markdown",
   "metadata": {},
   "source": [
    "Most of my process for this assignment took the form of manipulating data on immunization coverage among 7-17 year olds during the 2017-2018 school year from [Toronto's Open Data Portal.](https://portal0.cf.opendata.inter.sandbox-toronto.ca/dataset/immunization-coverage-for-students/) Though I made my final graphic in Excel, I used Python to sort through school types and find average enrollment and vaccine exemption rates for those school types. \n",
    "\n",
    "See my other Jupyter Notebook \"pythonparty\" for how I performed my calculations and classified the data by school type; I was not able to capture all schools of each category in my calculations. I also created some scatter plots using Python and Plotly, to see if there was any possibility of misrepresenting those data. Since there were only a few continuous variables available to me with this dataset (enrollment, coverage rates, and exemption rates), my options were limited, and I decided to go for the more click-baity independent variable of school type (alternative, Catholic, public, etc.) "
   ]
  },
  {
   "cell_type": "code",
   "execution_count": 22,
   "metadata": {},
   "outputs": [
    {
     "data": {
      "text/html": [
       "<img src=\"https://raw.githubusercontent.com/valhella/torontoimmunization/master/images/proto.png\" width=\"700\" height=\"300\"/>"
      ],
      "text/plain": [
       "<IPython.core.display.Image object>"
      ]
     },
     "execution_count": 22,
     "metadata": {},
     "output_type": "execute_result"
    }
   ],
   "source": [
    "from IPython.display import Image\n",
    "from IPython.core.display import HTML \n",
    "Image(url = \"https://raw.githubusercontent.com/valhella/torontoimmunization/master/images/proto.png\", width = 700, height = 300)"
   ]
  },
  {
   "cell_type": "markdown",
   "metadata": {},
   "source": [
    "Originally, I wanted to do a bubble chart (see above for my attempt)--they're quite common, seem intuitive, and I thought they would be simple to manipulate. However, I was not willing to manually re-size the bubbles to misrepresent the data, as my challenge to myself was to create a technically accurate data object while still being misleading. Though the data was cherrypicked for this graphic (and really, you shouldn't compute a median on just two data points), the message was not coming through strong enough. I wanted to illustrate that none of the major school types in Toronto were safe, especially art schools, and that alternative schools were safer (there were no alternative schools with over 25 students unvaccinated for MMR). To up the fear factor, I considered a map-based version of this graphic, in addition to the [weekly measles and rubella bulletin](\"https://www.canada.ca/en/public-health/services/diseases/measles/surveillance-measles/measles-rubella-weekly-monitoring-reports.html\") data on a map of Toronto--but unfortunately there is no latitude/longitude data or anything more specific than cases by city. Thus, I turned to what I thought would be the most trustworthy type of graphic for the masses: the bar chart. "
   ]
  },
  {
   "cell_type": "markdown",
   "metadata": {},
   "source": [
    "## The Deceptive Object"
   ]
  },
  {
   "cell_type": "markdown",
   "metadata": {},
   "source": [
    "Due to their ubiquity, bar graphs are untroublesome for viewers to absorb--they may do so quickly and move on, without fully pausing to investigate the trustworthiness of the graphic. In terms of data literacy, bar graphs require little to none to absorb the intended message. However, working out alternative messages from a bar graph is difficult: I do not expect my audience to have such data/graphic fluency. "
   ]
  },
  {
   "cell_type": "code",
   "execution_count": 23,
   "metadata": {},
   "outputs": [
    {
     "data": {
      "text/html": [
       "<img src=\"https://raw.githubusercontent.com/valhella/torontoimmunization/master/images/dataobject.png\" width=\"800\" height=\"500\"/>"
      ],
      "text/plain": [
       "<IPython.core.display.Image object>"
      ]
     },
     "execution_count": 23,
     "metadata": {},
     "output_type": "execute_result"
    }
   ],
   "source": [
    "Image(url = \"https://raw.githubusercontent.com/valhella/torontoimmunization/master/images/dataobject.png\", width = 800, height = 500)"
   ]
  },
  {
   "cell_type": "markdown",
   "metadata": {},
   "source": [
    "### Audience and Context"
   ]
  },
  {
   "cell_type": "markdown",
   "metadata": {},
   "source": [
    "This simple bar chart has rhetorical power due to the prevalence of its minimalist style in scientific and news publications and the weight of the City of Toronto logo in the top right corner. The style of the graph does not try to distract from the data. Even upon close inspection, the axis is not skewed, the actual data are clearly presented above each bar, and units are given. The only clue that this graph is not intended for a public policy, educational, medical, or scientific audience is the sensationalist title and non-neutral phrasing of the y-axis title (\"refusal\" rather than \"exemption\"). Practiced eyes might also question why the data object is framed in terms of single schools, not schools plural--in fact, these bars and numbers are not averages or medians as one would expect, but single data points cherrypicked from a large and more complicated dataset. To avoid these practiced eyes, this graphic would be aimed at new parents who are already flooded with information, and do not have the time or energy to sift through it all critically. This chart would be at home on a parenting site, one that is obstensibly professional and neutral, but funded by certain parties interested in spreading disinformation and promoting their own interests (I was inspired by the [The Children's Health Defense site](https://childrenshealthdefense.org/news/cdc-lies-about-and-media-repeats-risk-of-dying-from-measles/)). In this case I arbitrarily chose to promote Catholic schools and decry alternative schools. In order to accept the argument that alternative schools are unsafe and Catholic schools blessed, viewers would have to share my premise of disliking people who choose to get religious/philosphical vaccine exemptions because they increase the prevalence of disease. I would be interested to see how someone with an entirely different position toward vaccine exemptions (those who get them) would react to this graphic. "
   ]
  },
  {
   "cell_type": "markdown",
   "metadata": {},
   "source": [
    "### Data Explanation\n",
    "\n",
    "I selected the largest MMR vaccine religious exemption rate in the whole dataset for the alternative school, where the average for this school type is 6.9%. I chose one of the smallest rates for the Catholic school (average 1.33%), a rather high rate for the public school (average 1.76%) and an above average rate for the French school (average 2.24%). In fact, the actual averages would lead one to favor Catholic schools and avoid alternative schools anyways since Toronto Catholic schools' average MMR religious exemption rate is the lowest of the lot--but only by a little. Therefore, the argument that parents should favor Catholic schools is not terribly convincing. However, the data does support the alarming conclusion that alternative schools have the highest MMR vaccine religious exemption rates--and might therefore be hotbeds of measles transmission. Yet since the average enrollment of alternative schools is so low (175 students; public schools have an average of 208 and Catholic 303), this does not translate into a high number of unvaccinated children. The real threat is collegiate institutions, which have an average of 804 students per school and a 2% MMR religious exemption rate, which translates to 16 unvaccinated students per school. This is compared to on average 12 students per alternative school, 4 per Catholic school, 4 per public school, and 3 per French school. "
   ]
  },
  {
   "cell_type": "markdown",
   "metadata": {},
   "source": [
    "## Moral of the story: pay attention to the minutiae of not only a data graphic's aesthetics, but also its tone, message, and context. Also, send your kids to French school."
   ]
  },
  {
   "cell_type": "code",
   "execution_count": 17,
   "metadata": {},
   "outputs": [
    {
     "data": {
      "text/html": [
       "<img src=\"https://raw.githubusercontent.com/valhella/torontoimmunization/master/images/vaccine_img.png\" width=\"200\" height=\"200\"/>"
      ],
      "text/plain": [
       "<IPython.core.display.Image object>"
      ]
     },
     "execution_count": 17,
     "metadata": {},
     "output_type": "execute_result"
    }
   ],
   "source": [
    "Image(url = \"https://raw.githubusercontent.com/valhella/torontoimmunization/master/images/vaccine_img.png\", width = 200, height = 200)"
   ]
  }
 ],
 "metadata": {
  "kernelspec": {
   "display_name": "Python 3",
   "language": "python",
   "name": "python3"
  },
  "language_info": {
   "codemirror_mode": {
    "name": "ipython",
    "version": 3
   },
   "file_extension": ".py",
   "mimetype": "text/x-python",
   "name": "python",
   "nbconvert_exporter": "python",
   "pygments_lexer": "ipython3",
   "version": "3.7.3"
  }
 },
 "nbformat": 4,
 "nbformat_minor": 2
}
